{
 "cells": [
  {
   "cell_type": "code",
   "execution_count": 1,
   "metadata": {},
   "outputs": [],
   "source": [
    "import numpy as np\n",
    "import pandas as pd\n",
    "import requests\n",
    "from bs4 import BeautifulSoup\n",
    "from datetime import datetime, timedelta\n",
    "import matplotlib.pyplot as plt\n",
    "import seaborn as sns\n",
    "from scipy import stats, special\n",
    "\n",
    "from calendar import monthrange\n",
    "sns.set_style('darkgrid')\n",
    "%matplotlib inline"
   ]
  },
  {
   "cell_type": "markdown",
   "metadata": {},
   "source": [
    "# Gathering Data"
   ]
  },
  {
   "cell_type": "code",
   "execution_count": 2,
   "metadata": {},
   "outputs": [],
   "source": [
    "url = 'https://en.wikipedia.org/wiki/History_of_Federal_Open_Market_Committee_actions'\n",
    "html = requests.get(url).content\n",
    "df_list = pd.read_html(html)\n",
    "massivechanges = df_list[1]"
   ]
  },
  {
   "cell_type": "code",
   "execution_count": 3,
   "metadata": {
    "scrolled": true
   },
   "outputs": [],
   "source": [
    "def getFOMCDates(decade):\n",
    "    url = f'https://fraser.stlouisfed.org/title/federal-open-market-committee-meeting-minutes-transcripts-documents-677?browse={decade}s'\n",
    "    res = requests.get(url)\n",
    "    soup = BeautifulSoup(res.text, 'html.parser')\n",
    "\n",
    "    dateList = soup.find_all('span', {'class': 'list-item-title'})\n",
    "    dList = []\n",
    "    def parseString():\n",
    "        for i in range(len(dateList)):\n",
    "            s = dateList[i].text\n",
    "            ind = s.find('Meeting, ')\n",
    "            if ind != None and ind != -1:\n",
    "                dateStr = s[ind+9:]\n",
    "                dateStr = dateStr[:dateStr.find(',')+6]\n",
    "                if dateStr.find('-') != -1:\n",
    "                    dateStr = dateStr[:dateStr.find('-')] + dateStr[dateStr.find(','):]\n",
    "                dList.append(dateStr)\n",
    "            \n",
    "    parseString() \n",
    "    return dList"
   ]
  },
  {
   "cell_type": "code",
   "execution_count": 4,
   "metadata": {},
   "outputs": [],
   "source": [
    "dateList = getFOMCDates(2000) + getFOMCDates(2010) + [getFOMCDates(2020)[0]]"
   ]
  },
  {
   "cell_type": "code",
   "execution_count": 5,
   "metadata": {},
   "outputs": [],
   "source": [
    "def strToCal(s):\n",
    "    return datetime.strptime(s, '%B %d, %Y')"
   ]
  },
  {
   "cell_type": "code",
   "execution_count": 6,
   "metadata": {},
   "outputs": [],
   "source": [
    "dateTimeList = list(map(strToCal, dateList))"
   ]
  },
  {
   "cell_type": "code",
   "execution_count": 7,
   "metadata": {},
   "outputs": [
    {
     "data": {
      "text/plain": [
       "[datetime.datetime(2000, 2, 1, 0, 0),\n",
       " datetime.datetime(2000, 3, 21, 0, 0),\n",
       " datetime.datetime(2000, 5, 16, 0, 0),\n",
       " datetime.datetime(2000, 6, 27, 0, 0),\n",
       " datetime.datetime(2000, 8, 22, 0, 0),\n",
       " datetime.datetime(2000, 10, 3, 0, 0),\n",
       " datetime.datetime(2000, 11, 15, 0, 0),\n",
       " datetime.datetime(2000, 12, 19, 0, 0),\n",
       " datetime.datetime(2001, 1, 30, 0, 0),\n",
       " datetime.datetime(2001, 3, 20, 0, 0),\n",
       " datetime.datetime(2001, 5, 15, 0, 0),\n",
       " datetime.datetime(2001, 6, 26, 0, 0),\n",
       " datetime.datetime(2001, 8, 21, 0, 0),\n",
       " datetime.datetime(2001, 10, 2, 0, 0),\n",
       " datetime.datetime(2001, 11, 6, 0, 0),\n",
       " datetime.datetime(2001, 12, 11, 0, 0),\n",
       " datetime.datetime(2002, 1, 29, 0, 0),\n",
       " datetime.datetime(2002, 3, 19, 0, 0),\n",
       " datetime.datetime(2002, 5, 7, 0, 0),\n",
       " datetime.datetime(2002, 6, 25, 0, 0),\n",
       " datetime.datetime(2002, 8, 13, 0, 0),\n",
       " datetime.datetime(2002, 9, 24, 0, 0),\n",
       " datetime.datetime(2002, 11, 6, 0, 0),\n",
       " datetime.datetime(2002, 12, 10, 0, 0),\n",
       " datetime.datetime(2003, 1, 28, 0, 0),\n",
       " datetime.datetime(2003, 3, 18, 0, 0),\n",
       " datetime.datetime(2003, 5, 6, 0, 0),\n",
       " datetime.datetime(2003, 6, 24, 0, 0),\n",
       " datetime.datetime(2003, 8, 12, 0, 0),\n",
       " datetime.datetime(2003, 9, 15, 0, 0),\n",
       " datetime.datetime(2003, 9, 16, 0, 0),\n",
       " datetime.datetime(2003, 10, 28, 0, 0),\n",
       " datetime.datetime(2003, 12, 9, 0, 0),\n",
       " datetime.datetime(2004, 1, 27, 0, 0),\n",
       " datetime.datetime(2004, 3, 16, 0, 0),\n",
       " datetime.datetime(2004, 5, 4, 0, 0),\n",
       " datetime.datetime(2004, 6, 29, 0, 0),\n",
       " datetime.datetime(2004, 8, 10, 0, 0),\n",
       " datetime.datetime(2004, 9, 21, 0, 0),\n",
       " datetime.datetime(2004, 11, 10, 0, 0),\n",
       " datetime.datetime(2004, 12, 14, 0, 0),\n",
       " datetime.datetime(2005, 2, 1, 0, 0),\n",
       " datetime.datetime(2005, 3, 22, 0, 0),\n",
       " datetime.datetime(2005, 5, 3, 0, 0),\n",
       " datetime.datetime(2005, 6, 29, 0, 0),\n",
       " datetime.datetime(2005, 8, 9, 0, 0),\n",
       " datetime.datetime(2005, 9, 20, 0, 0),\n",
       " datetime.datetime(2005, 11, 1, 0, 0),\n",
       " datetime.datetime(2005, 12, 13, 0, 0),\n",
       " datetime.datetime(2006, 1, 31, 0, 0),\n",
       " datetime.datetime(2006, 3, 27, 0, 0),\n",
       " datetime.datetime(2006, 5, 10, 0, 0),\n",
       " datetime.datetime(2006, 6, 28, 0, 0),\n",
       " datetime.datetime(2006, 8, 8, 0, 0),\n",
       " datetime.datetime(2006, 9, 20, 0, 0),\n",
       " datetime.datetime(2006, 10, 24, 0, 0),\n",
       " datetime.datetime(2006, 12, 12, 0, 0),\n",
       " datetime.datetime(2007, 1, 30, 0, 0),\n",
       " datetime.datetime(2007, 3, 20, 0, 0),\n",
       " datetime.datetime(2007, 5, 9, 0, 0),\n",
       " datetime.datetime(2007, 6, 27, 0, 0),\n",
       " datetime.datetime(2007, 8, 7, 0, 0),\n",
       " datetime.datetime(2007, 9, 18, 0, 0),\n",
       " datetime.datetime(2007, 10, 30, 0, 0),\n",
       " datetime.datetime(2007, 12, 11, 0, 0),\n",
       " datetime.datetime(2008, 1, 29, 0, 0),\n",
       " datetime.datetime(2008, 3, 18, 0, 0),\n",
       " datetime.datetime(2008, 4, 29, 0, 0),\n",
       " datetime.datetime(2008, 6, 24, 0, 0),\n",
       " datetime.datetime(2008, 8, 5, 0, 0),\n",
       " datetime.datetime(2008, 9, 16, 0, 0),\n",
       " datetime.datetime(2008, 10, 28, 0, 0),\n",
       " datetime.datetime(2008, 12, 15, 0, 0),\n",
       " datetime.datetime(2009, 1, 28, 0, 0),\n",
       " datetime.datetime(2009, 3, 17, 0, 0),\n",
       " datetime.datetime(2009, 4, 28, 0, 0),\n",
       " datetime.datetime(2009, 6, 23, 0, 0),\n",
       " datetime.datetime(2009, 8, 11, 0, 0),\n",
       " datetime.datetime(2009, 9, 22, 0, 0),\n",
       " datetime.datetime(2009, 11, 3, 0, 0),\n",
       " datetime.datetime(2009, 12, 15, 0, 0),\n",
       " datetime.datetime(2010, 1, 26, 0, 0),\n",
       " datetime.datetime(2010, 3, 16, 0, 0),\n",
       " datetime.datetime(2010, 4, 27, 0, 0),\n",
       " datetime.datetime(2010, 6, 23, 0, 0),\n",
       " datetime.datetime(2010, 8, 10, 0, 0),\n",
       " datetime.datetime(2010, 9, 21, 0, 0),\n",
       " datetime.datetime(2010, 11, 2, 0, 0),\n",
       " datetime.datetime(2010, 12, 14, 0, 0),\n",
       " datetime.datetime(2011, 1, 25, 0, 0),\n",
       " datetime.datetime(2011, 3, 15, 0, 0),\n",
       " datetime.datetime(2011, 4, 26, 0, 0),\n",
       " datetime.datetime(2011, 6, 21, 0, 0),\n",
       " datetime.datetime(2011, 8, 9, 0, 0),\n",
       " datetime.datetime(2011, 9, 20, 0, 0),\n",
       " datetime.datetime(2011, 11, 1, 0, 0),\n",
       " datetime.datetime(2011, 12, 13, 0, 0),\n",
       " datetime.datetime(2012, 1, 24, 0, 0),\n",
       " datetime.datetime(2012, 3, 13, 0, 0),\n",
       " datetime.datetime(2012, 4, 24, 0, 0),\n",
       " datetime.datetime(2012, 6, 19, 0, 0),\n",
       " datetime.datetime(2012, 7, 31, 0, 0),\n",
       " datetime.datetime(2012, 9, 12, 0, 0),\n",
       " datetime.datetime(2012, 10, 23, 0, 0),\n",
       " datetime.datetime(2012, 12, 11, 0, 0),\n",
       " datetime.datetime(2013, 1, 29, 0, 0),\n",
       " datetime.datetime(2013, 3, 19, 0, 0),\n",
       " datetime.datetime(2013, 4, 30, 0, 0),\n",
       " datetime.datetime(2013, 6, 18, 0, 0),\n",
       " datetime.datetime(2013, 7, 30, 0, 0),\n",
       " datetime.datetime(2013, 9, 18, 0, 0),\n",
       " datetime.datetime(2013, 10, 29, 0, 0),\n",
       " datetime.datetime(2013, 12, 17, 0, 0),\n",
       " datetime.datetime(2014, 1, 28, 0, 0),\n",
       " datetime.datetime(2014, 3, 18, 0, 0),\n",
       " datetime.datetime(2014, 4, 29, 0, 0),\n",
       " datetime.datetime(2014, 6, 17, 0, 0),\n",
       " datetime.datetime(2014, 7, 29, 0, 0),\n",
       " datetime.datetime(2014, 9, 16, 0, 0),\n",
       " datetime.datetime(2014, 10, 28, 0, 0),\n",
       " datetime.datetime(2014, 12, 16, 0, 0),\n",
       " datetime.datetime(2015, 1, 27, 0, 0),\n",
       " datetime.datetime(2015, 3, 17, 0, 0),\n",
       " datetime.datetime(2015, 4, 28, 0, 0),\n",
       " datetime.datetime(2015, 6, 16, 0, 0),\n",
       " datetime.datetime(2015, 7, 28, 0, 0),\n",
       " datetime.datetime(2015, 9, 16, 0, 0),\n",
       " datetime.datetime(2015, 10, 27, 0, 0),\n",
       " datetime.datetime(2015, 12, 15, 0, 0),\n",
       " datetime.datetime(2016, 1, 26, 0, 0),\n",
       " datetime.datetime(2016, 3, 15, 0, 0),\n",
       " datetime.datetime(2016, 4, 26, 0, 0),\n",
       " datetime.datetime(2016, 6, 14, 0, 0),\n",
       " datetime.datetime(2016, 7, 26, 0, 0),\n",
       " datetime.datetime(2016, 9, 20, 0, 0),\n",
       " datetime.datetime(2016, 11, 1, 0, 0),\n",
       " datetime.datetime(2016, 12, 13, 0, 0),\n",
       " datetime.datetime(2017, 1, 31, 0, 0),\n",
       " datetime.datetime(2017, 3, 14, 0, 0),\n",
       " datetime.datetime(2017, 5, 2, 0, 0),\n",
       " datetime.datetime(2017, 6, 13, 0, 0),\n",
       " datetime.datetime(2017, 7, 25, 0, 0),\n",
       " datetime.datetime(2017, 9, 19, 0, 0),\n",
       " datetime.datetime(2017, 10, 31, 0, 0),\n",
       " datetime.datetime(2017, 12, 12, 0, 0),\n",
       " datetime.datetime(2018, 1, 30, 0, 0),\n",
       " datetime.datetime(2018, 3, 20, 0, 0),\n",
       " datetime.datetime(2018, 5, 1, 0, 0),\n",
       " datetime.datetime(2018, 6, 12, 0, 0),\n",
       " datetime.datetime(2018, 7, 31, 0, 0),\n",
       " datetime.datetime(2018, 9, 25, 0, 0),\n",
       " datetime.datetime(2018, 11, 7, 0, 0),\n",
       " datetime.datetime(2018, 12, 18, 0, 0),\n",
       " datetime.datetime(2019, 1, 29, 0, 0),\n",
       " datetime.datetime(2019, 3, 19, 0, 0),\n",
       " datetime.datetime(2019, 4, 30, 0, 0),\n",
       " datetime.datetime(2019, 6, 18, 0, 0),\n",
       " datetime.datetime(2019, 7, 30, 0, 0),\n",
       " datetime.datetime(2019, 9, 17, 0, 0),\n",
       " datetime.datetime(2019, 10, 4, 0, 0),\n",
       " datetime.datetime(2019, 10, 29, 0, 0),\n",
       " datetime.datetime(2019, 12, 10, 0, 0),\n",
       " datetime.datetime(2020, 1, 28, 0, 0)]"
      ]
     },
     "execution_count": 7,
     "metadata": {},
     "output_type": "execute_result"
    }
   ],
   "source": [
    "dateTimeList"
   ]
  },
  {
   "cell_type": "code",
   "execution_count": 8,
   "metadata": {},
   "outputs": [],
   "source": [
    "dfList = []\n",
    "d = datetime(2002, 12, 10)\n",
    "for elem in dateTimeList:\n",
    "    if elem > d:\n",
    "        dfList.append([None, elem])"
   ]
  },
  {
   "cell_type": "code",
   "execution_count": 9,
   "metadata": {},
   "outputs": [],
   "source": [
    "df = pd.DataFrame(dfList, columns=['Fed. Funds Rate', 'Converted_Datetime'])"
   ]
  },
  {
   "cell_type": "code",
   "execution_count": 10,
   "metadata": {},
   "outputs": [
    {
     "ename": "ParserError",
     "evalue": "Error tokenizing data. C error: Expected 1 fields in line 5, saw 2\n",
     "output_type": "error",
     "traceback": [
      "\u001b[0;31m---------------------------------------------------------------------------\u001b[0m",
      "\u001b[0;31mParserError\u001b[0m                               Traceback (most recent call last)",
      "\u001b[0;32m<ipython-input-10-e8d65f4fe0f3>\u001b[0m in \u001b[0;36m<module>\u001b[0;34m\u001b[0m\n\u001b[0;32m----> 1\u001b[0;31m \u001b[0mpriceoffutures\u001b[0m \u001b[0;34m=\u001b[0m \u001b[0mpd\u001b[0m\u001b[0;34m.\u001b[0m\u001b[0mread_csv\u001b[0m\u001b[0;34m(\u001b[0m\u001b[0;34m'30-day-fed-funds-futures.csv'\u001b[0m\u001b[0;34m)\u001b[0m\u001b[0;34m\u001b[0m\u001b[0;34m\u001b[0m\u001b[0m\n\u001b[0m",
      "\u001b[0;32m/opt/anaconda3/envs/venv/lib/python3.7/site-packages/pandas/io/parsers.py\u001b[0m in \u001b[0;36mread_csv\u001b[0;34m(filepath_or_buffer, sep, delimiter, header, names, index_col, usecols, squeeze, prefix, mangle_dupe_cols, dtype, engine, converters, true_values, false_values, skipinitialspace, skiprows, skipfooter, nrows, na_values, keep_default_na, na_filter, verbose, skip_blank_lines, parse_dates, infer_datetime_format, keep_date_col, date_parser, dayfirst, cache_dates, iterator, chunksize, compression, thousands, decimal, lineterminator, quotechar, quoting, doublequote, escapechar, comment, encoding, dialect, error_bad_lines, warn_bad_lines, delim_whitespace, low_memory, memory_map, float_precision)\u001b[0m\n\u001b[1;32m    684\u001b[0m     )\n\u001b[1;32m    685\u001b[0m \u001b[0;34m\u001b[0m\u001b[0m\n\u001b[0;32m--> 686\u001b[0;31m     \u001b[0;32mreturn\u001b[0m \u001b[0m_read\u001b[0m\u001b[0;34m(\u001b[0m\u001b[0mfilepath_or_buffer\u001b[0m\u001b[0;34m,\u001b[0m \u001b[0mkwds\u001b[0m\u001b[0;34m)\u001b[0m\u001b[0;34m\u001b[0m\u001b[0;34m\u001b[0m\u001b[0m\n\u001b[0m\u001b[1;32m    687\u001b[0m \u001b[0;34m\u001b[0m\u001b[0m\n\u001b[1;32m    688\u001b[0m \u001b[0;34m\u001b[0m\u001b[0m\n",
      "\u001b[0;32m/opt/anaconda3/envs/venv/lib/python3.7/site-packages/pandas/io/parsers.py\u001b[0m in \u001b[0;36m_read\u001b[0;34m(filepath_or_buffer, kwds)\u001b[0m\n\u001b[1;32m    456\u001b[0m \u001b[0;34m\u001b[0m\u001b[0m\n\u001b[1;32m    457\u001b[0m     \u001b[0;32mtry\u001b[0m\u001b[0;34m:\u001b[0m\u001b[0;34m\u001b[0m\u001b[0;34m\u001b[0m\u001b[0m\n\u001b[0;32m--> 458\u001b[0;31m         \u001b[0mdata\u001b[0m \u001b[0;34m=\u001b[0m \u001b[0mparser\u001b[0m\u001b[0;34m.\u001b[0m\u001b[0mread\u001b[0m\u001b[0;34m(\u001b[0m\u001b[0mnrows\u001b[0m\u001b[0;34m)\u001b[0m\u001b[0;34m\u001b[0m\u001b[0;34m\u001b[0m\u001b[0m\n\u001b[0m\u001b[1;32m    459\u001b[0m     \u001b[0;32mfinally\u001b[0m\u001b[0;34m:\u001b[0m\u001b[0;34m\u001b[0m\u001b[0;34m\u001b[0m\u001b[0m\n\u001b[1;32m    460\u001b[0m         \u001b[0mparser\u001b[0m\u001b[0;34m.\u001b[0m\u001b[0mclose\u001b[0m\u001b[0;34m(\u001b[0m\u001b[0;34m)\u001b[0m\u001b[0;34m\u001b[0m\u001b[0;34m\u001b[0m\u001b[0m\n",
      "\u001b[0;32m/opt/anaconda3/envs/venv/lib/python3.7/site-packages/pandas/io/parsers.py\u001b[0m in \u001b[0;36mread\u001b[0;34m(self, nrows)\u001b[0m\n\u001b[1;32m   1184\u001b[0m     \u001b[0;32mdef\u001b[0m \u001b[0mread\u001b[0m\u001b[0;34m(\u001b[0m\u001b[0mself\u001b[0m\u001b[0;34m,\u001b[0m \u001b[0mnrows\u001b[0m\u001b[0;34m=\u001b[0m\u001b[0;32mNone\u001b[0m\u001b[0;34m)\u001b[0m\u001b[0;34m:\u001b[0m\u001b[0;34m\u001b[0m\u001b[0;34m\u001b[0m\u001b[0m\n\u001b[1;32m   1185\u001b[0m         \u001b[0mnrows\u001b[0m \u001b[0;34m=\u001b[0m \u001b[0m_validate_integer\u001b[0m\u001b[0;34m(\u001b[0m\u001b[0;34m\"nrows\"\u001b[0m\u001b[0;34m,\u001b[0m \u001b[0mnrows\u001b[0m\u001b[0;34m)\u001b[0m\u001b[0;34m\u001b[0m\u001b[0;34m\u001b[0m\u001b[0m\n\u001b[0;32m-> 1186\u001b[0;31m         \u001b[0mret\u001b[0m \u001b[0;34m=\u001b[0m \u001b[0mself\u001b[0m\u001b[0;34m.\u001b[0m\u001b[0m_engine\u001b[0m\u001b[0;34m.\u001b[0m\u001b[0mread\u001b[0m\u001b[0;34m(\u001b[0m\u001b[0mnrows\u001b[0m\u001b[0;34m)\u001b[0m\u001b[0;34m\u001b[0m\u001b[0;34m\u001b[0m\u001b[0m\n\u001b[0m\u001b[1;32m   1187\u001b[0m \u001b[0;34m\u001b[0m\u001b[0m\n\u001b[1;32m   1188\u001b[0m         \u001b[0;31m# May alter columns / col_dict\u001b[0m\u001b[0;34m\u001b[0m\u001b[0;34m\u001b[0m\u001b[0;34m\u001b[0m\u001b[0m\n",
      "\u001b[0;32m/opt/anaconda3/envs/venv/lib/python3.7/site-packages/pandas/io/parsers.py\u001b[0m in \u001b[0;36mread\u001b[0;34m(self, nrows)\u001b[0m\n\u001b[1;32m   2143\u001b[0m     \u001b[0;32mdef\u001b[0m \u001b[0mread\u001b[0m\u001b[0;34m(\u001b[0m\u001b[0mself\u001b[0m\u001b[0;34m,\u001b[0m \u001b[0mnrows\u001b[0m\u001b[0;34m=\u001b[0m\u001b[0;32mNone\u001b[0m\u001b[0;34m)\u001b[0m\u001b[0;34m:\u001b[0m\u001b[0;34m\u001b[0m\u001b[0;34m\u001b[0m\u001b[0m\n\u001b[1;32m   2144\u001b[0m         \u001b[0;32mtry\u001b[0m\u001b[0;34m:\u001b[0m\u001b[0;34m\u001b[0m\u001b[0;34m\u001b[0m\u001b[0m\n\u001b[0;32m-> 2145\u001b[0;31m             \u001b[0mdata\u001b[0m \u001b[0;34m=\u001b[0m \u001b[0mself\u001b[0m\u001b[0;34m.\u001b[0m\u001b[0m_reader\u001b[0m\u001b[0;34m.\u001b[0m\u001b[0mread\u001b[0m\u001b[0;34m(\u001b[0m\u001b[0mnrows\u001b[0m\u001b[0;34m)\u001b[0m\u001b[0;34m\u001b[0m\u001b[0;34m\u001b[0m\u001b[0m\n\u001b[0m\u001b[1;32m   2146\u001b[0m         \u001b[0;32mexcept\u001b[0m \u001b[0mStopIteration\u001b[0m\u001b[0;34m:\u001b[0m\u001b[0;34m\u001b[0m\u001b[0;34m\u001b[0m\u001b[0m\n\u001b[1;32m   2147\u001b[0m             \u001b[0;32mif\u001b[0m \u001b[0mself\u001b[0m\u001b[0;34m.\u001b[0m\u001b[0m_first_chunk\u001b[0m\u001b[0;34m:\u001b[0m\u001b[0;34m\u001b[0m\u001b[0;34m\u001b[0m\u001b[0m\n",
      "\u001b[0;32mpandas/_libs/parsers.pyx\u001b[0m in \u001b[0;36mpandas._libs.parsers.TextReader.read\u001b[0;34m()\u001b[0m\n",
      "\u001b[0;32mpandas/_libs/parsers.pyx\u001b[0m in \u001b[0;36mpandas._libs.parsers.TextReader._read_low_memory\u001b[0;34m()\u001b[0m\n",
      "\u001b[0;32mpandas/_libs/parsers.pyx\u001b[0m in \u001b[0;36mpandas._libs.parsers.TextReader._read_rows\u001b[0;34m()\u001b[0m\n",
      "\u001b[0;32mpandas/_libs/parsers.pyx\u001b[0m in \u001b[0;36mpandas._libs.parsers.TextReader._tokenize_rows\u001b[0;34m()\u001b[0m\n",
      "\u001b[0;32mpandas/_libs/parsers.pyx\u001b[0m in \u001b[0;36mpandas._libs.parsers.raise_parser_error\u001b[0;34m()\u001b[0m\n",
      "\u001b[0;31mParserError\u001b[0m: Error tokenizing data. C error: Expected 1 fields in line 5, saw 2\n"
     ]
    }
   ],
   "source": [
    "priceoffutures = pd.read_csv('../data/30-day-fed-funds-futures.csv')"
   ]
  },
  {
   "cell_type": "markdown",
   "metadata": {},
   "source": [
    "# Cleaning & Processing"
   ]
  },
  {
   "cell_type": "code",
   "execution_count": null,
   "metadata": {},
   "outputs": [],
   "source": [
    "date_time_str = 'January 29, 2003'\n",
    "date_time_obj = datetime.strptime(date_time_str, '%B %d, %Y')"
   ]
  },
  {
   "cell_type": "code",
   "execution_count": null,
   "metadata": {},
   "outputs": [],
   "source": [
    "date_time_obj"
   ]
  },
  {
   "cell_type": "code",
   "execution_count": null,
   "metadata": {},
   "outputs": [],
   "source": [
    "massivechanges['Converted_Datetime'] = massivechanges['Date'].apply(lambda x:datetime.strptime(x, '%B %d, %Y'))"
   ]
  },
  {
   "cell_type": "code",
   "execution_count": null,
   "metadata": {},
   "outputs": [],
   "source": [
    "del massivechanges['Votes']\n",
    "del massivechanges['Date']\n",
    "del massivechanges['Notes']\n",
    "del massivechanges['Discount Rate']"
   ]
  },
  {
   "cell_type": "code",
   "execution_count": null,
   "metadata": {},
   "outputs": [],
   "source": [
    "massivechanges"
   ]
  },
  {
   "cell_type": "code",
   "execution_count": null,
   "metadata": {},
   "outputs": [],
   "source": [
    "massivechanges = massivechanges.append(df, ignore_index=True)"
   ]
  },
  {
   "cell_type": "code",
   "execution_count": null,
   "metadata": {},
   "outputs": [],
   "source": [
    "massivechanges.sort_values(by='Converted_Datetime', ascending=False, inplace=True, ignore_index=True)\n",
    "\n",
    "massivechanges"
   ]
  },
  {
   "cell_type": "code",
   "execution_count": null,
   "metadata": {},
   "outputs": [],
   "source": [
    "bigChanges = massivechanges.sort_values(by='Converted_Datetime', ignore_index=True)\n",
    "\n",
    "newDf = pd.DataFrame(columns=['Fed. Funds Rate', ])\n",
    "\n",
    "for index, row in bigChanges.iterrows():\n",
    "    if pd.isnull(row['Fed. Funds Rate']):\n",
    "        if row['Converted_Datetime'] == bigChanges.iloc[index+1, 1] or row['Converted_Datetime'] == bigChanges.iloc[index+1, 1] + timedelta(days=-1):\n",
    "            continue\n",
    "        else:\n",
    "            bigChanges.iloc[index, 0] = bigChanges.iloc[index-1, 0]\n",
    "\n",
    "bigChanges.dropna(inplace=True)\n",
    "bigChanges.drop_duplicates(inplace=True, ignore_index=True)\n",
    "bigChanges"
   ]
  },
  {
   "cell_type": "code",
   "execution_count": null,
   "metadata": {},
   "outputs": [],
   "source": [
    "massivechanges = bigChanges.sort_values(by='Converted_Datetime', ascending=False, ignore_index=True)"
   ]
  },
  {
   "cell_type": "code",
   "execution_count": null,
   "metadata": {},
   "outputs": [],
   "source": [
    "massivechanges"
   ]
  },
  {
   "cell_type": "code",
   "execution_count": null,
   "metadata": {},
   "outputs": [],
   "source": [
    "priceoffutures['Date'] = priceoffutures['date'].apply(lambda x:datetime.strptime(x, '%m/%d/%Y'))"
   ]
  },
  {
   "cell_type": "code",
   "execution_count": null,
   "metadata": {},
   "outputs": [],
   "source": [
    "del priceoffutures['date']"
   ]
  },
  {
   "cell_type": "code",
   "execution_count": null,
   "metadata": {},
   "outputs": [],
   "source": [
    "def parsestring(s):\n",
    "    if chr(8211) in s:\n",
    "        wow = s.split(chr(8211))\n",
    "        s1 = wow[0][:-1]\n",
    "        s2 = wow[1][:-1]\n",
    "        return (float(s1) + float(s2)) / 2\n",
    "    else:\n",
    "        return float(s[:-1])"
   ]
  },
  {
   "cell_type": "code",
   "execution_count": null,
   "metadata": {
    "scrolled": true
   },
   "outputs": [],
   "source": [
    "massivechanges['Rate'] = massivechanges['Fed. Funds Rate'].apply(parsestring)"
   ]
  },
  {
   "cell_type": "code",
   "execution_count": null,
   "metadata": {},
   "outputs": [],
   "source": [
    "del massivechanges['Fed. Funds Rate']"
   ]
  },
  {
   "cell_type": "code",
   "execution_count": null,
   "metadata": {},
   "outputs": [],
   "source": [
    "massivechanges"
   ]
  },
  {
   "cell_type": "code",
   "execution_count": null,
   "metadata": {},
   "outputs": [],
   "source": [
    "priceoffutures_dict = {}\n",
    "for i in range(priceoffutures.shape[0]):\n",
    "    priceoffutures_dict[priceoffutures['Date'][i]] = priceoffutures[' value'][i]"
   ]
  },
  {
   "cell_type": "code",
   "execution_count": null,
   "metadata": {},
   "outputs": [],
   "source": [
    "massivechanges['DayofWeek'] = massivechanges['Converted_Datetime'].apply(lambda x : datetime.weekday(x))"
   ]
  },
  {
   "cell_type": "code",
   "execution_count": null,
   "metadata": {},
   "outputs": [],
   "source": [
    "priceoffutures\n"
   ]
  },
  {
   "cell_type": "code",
   "execution_count": null,
   "metadata": {},
   "outputs": [],
   "source": [
    "def rowinpriceoffutures(i):\n",
    "    for j in range(len(priceoffutures['Date'])):\n",
    "        if priceoffutures['Date'][j] > i:\n",
    "            return j-1\n",
    "    return -1"
   ]
  },
  {
   "cell_type": "code",
   "execution_count": null,
   "metadata": {},
   "outputs": [],
   "source": [
    "massivechanges['rowinpriceoffutures'] = massivechanges['Converted_Datetime'].apply(lambda x : rowinpriceoffutures(x))"
   ]
  },
  {
   "cell_type": "code",
   "execution_count": null,
   "metadata": {},
   "outputs": [],
   "source": [
    "returnlist = []\n",
    "for i in range(len(massivechanges['rowinpriceoffutures'])):\n",
    "    if massivechanges['DayofWeek'][i] == 5 or massivechanges['DayofWeek'][i] == 6:\n",
    "        returnlist.append(priceoffutures['Date'][massivechanges['rowinpriceoffutures'][i]])\n",
    "    else:\n",
    "        returnlist.append(priceoffutures['Date'][massivechanges['rowinpriceoffutures'][i]-1])\n",
    "\n",
    "massivechanges['Day before'] = pd.Series(returnlist)\n"
   ]
  },
  {
   "cell_type": "code",
   "execution_count": null,
   "metadata": {},
   "outputs": [],
   "source": [
    "returnlist = []\n",
    "for i in range(len(massivechanges['rowinpriceoffutures'])):\n",
    "        returnlist.append(priceoffutures['Date'][massivechanges['rowinpriceoffutures'][i]+1])\n",
    "\n",
    "massivechanges['Day after'] = pd.Series(returnlist)"
   ]
  },
  {
   "cell_type": "code",
   "execution_count": null,
   "metadata": {},
   "outputs": [],
   "source": [
    "massivechanges['Ratedaybefore'] = massivechanges['Day before'].apply(lambda x : priceoffutures_dict[x])"
   ]
  },
  {
   "cell_type": "code",
   "execution_count": null,
   "metadata": {},
   "outputs": [],
   "source": [
    "massivechanges['Ratedayafter'] = massivechanges['Day after'].apply(lambda x : priceoffutures_dict[x])"
   ]
  },
  {
   "cell_type": "code",
   "execution_count": null,
   "metadata": {},
   "outputs": [],
   "source": [
    "massivechanges['difference'] = massivechanges['Ratedayafter'] - massivechanges['Ratedaybefore']"
   ]
  },
  {
   "cell_type": "code",
   "execution_count": null,
   "metadata": {},
   "outputs": [],
   "source": [
    "plt.scatter(massivechanges['Rate'], massivechanges['difference'])\n",
    "plt.show()"
   ]
  },
  {
   "cell_type": "code",
   "execution_count": null,
   "metadata": {},
   "outputs": [],
   "source": [
    "plt.scatter(massivechanges['Converted_Datetime'], massivechanges['difference'])\n",
    "plt.show()"
   ]
  },
  {
   "cell_type": "code",
   "execution_count": null,
   "metadata": {},
   "outputs": [],
   "source": [
    "plt.scatter(massivechanges['Converted_Datetime'], massivechanges['Rate'])\n",
    "plt.show()"
   ]
  },
  {
   "cell_type": "code",
   "execution_count": null,
   "metadata": {},
   "outputs": [],
   "source": [
    "returnlist = []\n",
    "for i in range(len(massivechanges['Rate'])):\n",
    "    if i == len(massivechanges['Rate'])-1:\n",
    "        returnlist.append(0)\n",
    "    else:\n",
    "        returnlist.append(massivechanges['Rate'][i] - massivechanges['Rate'][i+1])\n",
    "massivechanges['Rate Changes'] = pd.Series(returnlist)"
   ]
  },
  {
   "cell_type": "code",
   "execution_count": null,
   "metadata": {},
   "outputs": [],
   "source": [
    "plt.scatter(massivechanges['Rate Changes'], massivechanges['difference'])\n",
    "plt.show()"
   ]
  },
  {
   "cell_type": "code",
   "execution_count": null,
   "metadata": {},
   "outputs": [],
   "source": [
    "massivechanges"
   ]
  },
  {
   "cell_type": "markdown",
   "metadata": {},
   "source": [
    "# Figures"
   ]
  },
  {
   "cell_type": "markdown",
   "metadata": {},
   "source": [
    "## Rate change on difference (before - after)"
   ]
  },
  {
   "cell_type": "code",
   "execution_count": null,
   "metadata": {},
   "outputs": [],
   "source": [
    "x = massivechanges['Rate Changes']\n",
    "y = massivechanges['difference']\n",
    "xVal, yVal = zip(*sorted((xVal, np.mean([yVal for a, yVal in zip(x, y) if xVal==a])) for xVal in set(x)))"
   ]
  },
  {
   "cell_type": "code",
   "execution_count": null,
   "metadata": {},
   "outputs": [],
   "source": [
    "sns.lineplot(x=xVal, y=yVal)\n",
    "sns.scatterplot(x='Rate Changes', y='difference', data=massivechanges)"
   ]
  },
  {
   "cell_type": "code",
   "execution_count": null,
   "metadata": {},
   "outputs": [],
   "source": [
    "x_np = (massivechanges['Rate Changes']).to_numpy()\n",
    "y_np = massivechanges['difference'].to_numpy()"
   ]
  },
  {
   "cell_type": "code",
   "execution_count": null,
   "metadata": {},
   "outputs": [],
   "source": [
    "m, b = np.polyfit(x_np, y_np, 1)"
   ]
  },
  {
   "cell_type": "code",
   "execution_count": null,
   "metadata": {
    "scrolled": false
   },
   "outputs": [],
   "source": [
    "plt.scatter(x, y)\n",
    "plt.plot(x, m*x + b, 'r-', label = 'y = {0:.{1}f}'.format(m, 6) + 'x + {0:.{1}f}'.format(b, 6))\n",
    "plt.xlabel(\"Rate Hike/Cut\")\n",
    "plt.ylabel(\"Change in price of 30 day Fed Funds Future\")\n",
    "plt.title(\"Effect of Rate Hike/Cut on Price of 30 day Fed Funds Future\")\n",
    "plt.legend()\n",
    "\n",
    "plt.savefig('../figures/rate_change_on_FFF.png', dpi=800)"
   ]
  },
  {
   "cell_type": "code",
   "execution_count": null,
   "metadata": {},
   "outputs": [],
   "source": [
    "massivechanges"
   ]
  },
  {
   "cell_type": "markdown",
   "metadata": {},
   "source": [
    "## difference (before - before) on Rate Change"
   ]
  },
  {
   "cell_type": "code",
   "execution_count": null,
   "metadata": {},
   "outputs": [],
   "source": [
    "retList = []\n",
    "for i in range(len(massivechanges['Ratedaybefore'])):\n",
    "    if i == len(massivechanges['Ratedaybefore'])-1:\n",
    "        retList.append(0)\n",
    "    else:\n",
    "        retList.append(massivechanges['Ratedaybefore'][i+1] - massivechanges['Ratedaybefore'][i])\n",
    "massivechanges['difference type 2'] = pd.Series(retList)"
   ]
  },
  {
   "cell_type": "code",
   "execution_count": null,
   "metadata": {},
   "outputs": [],
   "source": [
    "massivechanges"
   ]
  },
  {
   "cell_type": "code",
   "execution_count": null,
   "metadata": {},
   "outputs": [],
   "source": [
    "sns.scatterplot(x='difference type 2', y='Rate Changes', data=massivechanges)"
   ]
  },
  {
   "cell_type": "code",
   "execution_count": null,
   "metadata": {},
   "outputs": [],
   "source": [
    "x = massivechanges['difference type 2']\n",
    "y = massivechanges['Rate Changes']"
   ]
  },
  {
   "cell_type": "code",
   "execution_count": null,
   "metadata": {},
   "outputs": [],
   "source": [
    "x_np = (massivechanges['difference type 2']).to_numpy()\n",
    "y_np = massivechanges['Rate Changes'].to_numpy()"
   ]
  },
  {
   "cell_type": "code",
   "execution_count": null,
   "metadata": {},
   "outputs": [],
   "source": [
    "m, b = np.polyfit(x_np, y_np, 1)"
   ]
  },
  {
   "cell_type": "code",
   "execution_count": null,
   "metadata": {
    "scrolled": false
   },
   "outputs": [],
   "source": [
    "sns.scatterplot(x='difference type 2', y='Rate Changes', data=massivechanges)\n",
    "plt.plot(x, m*x + b, 'r-', label = 'y = {0:.{1}f}'.format(m, 6) + 'x + {0:.{1}f}'.format(b, 6) + '\\nr^2 = {0:.{1}f}'.format(0.6635572131965038, 3))\n",
    "plt.xlabel(\"Change in Fed Funds Future between the day before the last cut/hike and the day before the FOMC\")\n",
    "plt.ylabel(\"Rate Hike/Cut\")\n",
    "plt.title(\"Effectiveness of Fed Funds future in predicting Fed Rate/Hike\")\n",
    "plt.legend()\n",
    "\n",
    "plt.savefig('../figures/FFF_on_rate_change.png', dpi=800)"
   ]
  },
  {
   "cell_type": "code",
   "execution_count": null,
   "metadata": {},
   "outputs": [],
   "source": [
    "slope, intercept, r_value, p_value, std_err = stats.linregress(x_np, y_np)\n",
    "print(slope)\n",
    "print(intercept)\n",
    "print(r_value ** 2)\n",
    "print(p_value)"
   ]
  },
  {
   "cell_type": "markdown",
   "metadata": {},
   "source": [
    "## Rate change on difference (after - after)"
   ]
  },
  {
   "cell_type": "code",
   "execution_count": null,
   "metadata": {},
   "outputs": [],
   "source": [
    "retList = []\n",
    "for i in range(len(massivechanges['Ratedayafter'])):\n",
    "    if i == len(massivechanges['Ratedayafter'])-1:\n",
    "        retList.append(0)\n",
    "    else:\n",
    "        retList.append(massivechanges['Ratedayafter'][i+1] - massivechanges['Ratedayafter'][i])\n",
    "massivechanges['difference type 3'] = pd.Series(retList)"
   ]
  },
  {
   "cell_type": "code",
   "execution_count": null,
   "metadata": {},
   "outputs": [],
   "source": [
    "massivechanges"
   ]
  },
  {
   "cell_type": "code",
   "execution_count": null,
   "metadata": {},
   "outputs": [],
   "source": [
    "sns.scatterplot(x='Rate Changes', y='difference type 3', data=massivechanges)"
   ]
  },
  {
   "cell_type": "code",
   "execution_count": null,
   "metadata": {},
   "outputs": [],
   "source": [
    "x = massivechanges['Rate Changes']\n",
    "y = massivechanges['difference type 3']"
   ]
  },
  {
   "cell_type": "code",
   "execution_count": null,
   "metadata": {},
   "outputs": [],
   "source": [
    "x_np = massivechanges['Rate Changes'].to_numpy()\n",
    "y_np = (massivechanges['difference type 3']).to_numpy()"
   ]
  },
  {
   "cell_type": "code",
   "execution_count": null,
   "metadata": {},
   "outputs": [],
   "source": [
    "m, b = np.polyfit(x_np, y_np, 1)"
   ]
  },
  {
   "cell_type": "code",
   "execution_count": null,
   "metadata": {
    "scrolled": false
   },
   "outputs": [],
   "source": [
    "fig = plt.figure(figsize=(12, 12))\n",
    "\n",
    "sns.scatterplot(x='Rate Changes', y='difference type 3', data=massivechanges)\n",
    "plt.plot(x, m*x + b, 'r-', label = 'y = {0:.{1}f}'.format(m, 6) + 'x + {0:.{1}f}'.format(b, 6) + '\\nr^2 = {0:.{1}f}'.format(0.5645045838882956, 3))\n",
    "plt.ylabel(\"Change in Fed Funds Future between the day after the last cut/hike and the day after the FOMC meeting\")\n",
    "plt.xlabel(\"Rate Hike/Cut\")\n",
    "plt.title(\"Effectiveness of Fed Rate/Hike in predicting Fed Funds Future one day after meeting\")\n",
    "plt.legend()\n",
    "\n",
    "plt.savefig('../figures/rate_change_on_FFF_2.png', dpi=800)"
   ]
  },
  {
   "cell_type": "code",
   "execution_count": null,
   "metadata": {},
   "outputs": [],
   "source": [
    "slope, intercept, r_value, p_value, std_err = stats.linregress(x_np, y_np)\n",
    "print(slope)\n",
    "print(intercept)\n",
    "print(r_value ** 2)\n",
    "print(p_value)"
   ]
  },
  {
   "cell_type": "markdown",
   "metadata": {},
   "source": [
    "# Expectation Analysis"
   ]
  },
  {
   "cell_type": "code",
   "execution_count": null,
   "metadata": {},
   "outputs": [],
   "source": [
    "expectation_df = massivechanges[['Converted_Datetime', 'Rate', 'Ratedaybefore', 'Ratedayafter', 'Rate Changes', 'difference']].copy()"
   ]
  },
  {
   "cell_type": "code",
   "execution_count": null,
   "metadata": {},
   "outputs": [],
   "source": [
    "returnlist = []\n",
    "for i in range(len(expectation_df['Converted_Datetime'])):\n",
    "    if i == len(expectation_df['Converted_Datetime']) - 1:\n",
    "        returnlist.append(1)\n",
    "    else:\n",
    "        value = (expectation_df['Converted_Datetime'][i].month - expectation_df['Converted_Datetime'][i+1].month)%12\n",
    "        if value <= 1:\n",
    "            returnlist.append(1)\n",
    "        else:\n",
    "            returnlist.append(2)\n",
    "expectation_df['Month Type'] = pd.Series(returnlist)"
   ]
  },
  {
   "cell_type": "code",
   "execution_count": null,
   "metadata": {},
   "outputs": [],
   "source": [
    "expectation_df['N'] = expectation_df['Converted_Datetime'].apply(lambda x: monthrange(x.year, x.month)[1])"
   ]
  },
  {
   "cell_type": "code",
   "execution_count": null,
   "metadata": {},
   "outputs": [],
   "source": [
    "expectation_df['M'] = expectation_df['Converted_Datetime'].apply(lambda x: x.day -1)"
   ]
  },
  {
   "cell_type": "code",
   "execution_count": null,
   "metadata": {},
   "outputs": [],
   "source": [
    "expectation_df['ImpliedRate'] = expectation_df['Ratedaybefore'].apply(lambda x: 100 -x)"
   ]
  },
  {
   "cell_type": "code",
   "execution_count": null,
   "metadata": {},
   "outputs": [],
   "source": [
    "def averageoverspan(datetime1, datetime2, price_dict):\n",
    "    change = datetime1\n",
    "    total = 0\n",
    "    count = 0\n",
    "    while change < datetime2:\n",
    "        if change in price_dict:\n",
    "            total += price_dict[change]\n",
    "            count +=1\n",
    "        change += timedelta(1)\n",
    "    return total/count"
   ]
  },
  {
   "cell_type": "code",
   "execution_count": null,
   "metadata": {},
   "outputs": [],
   "source": [
    "returnlist = []\n",
    "for i in range(len(expectation_df['Converted_Datetime'])):\n",
    "    end_dt = expectation_df['Converted_Datetime'][i].replace(day=1) - timedelta(1)\n",
    "    beginning_dt = end_dt.replace(day=1)\n",
    "    returnlist.append(100 - averageoverspan(beginning_dt, end_dt, priceoffutures_dict))\n",
    "    \n",
    "expectation_df['FFER.Start'] = pd.Series(returnlist)"
   ]
  },
  {
   "cell_type": "code",
   "execution_count": null,
   "metadata": {},
   "outputs": [],
   "source": [
    "returnlist = []\n",
    "for i in range(len(expectation_df['Converted_Datetime'])):\n",
    "    N = expectation_df['N'][i]\n",
    "    M = expectation_df['M'][i]\n",
    "    \n",
    "    value= N/(N-M) * (expectation_df['ImpliedRate'][i]- (M/N)*expectation_df['FFER.Start'][i])\n",
    "    \n",
    "    returnlist.append(value)\n",
    "expectation_df['FFER.End'] = pd.Series(returnlist)"
   ]
  },
  {
   "cell_type": "code",
   "execution_count": null,
   "metadata": {},
   "outputs": [],
   "source": [
    "P_Hikelist = []\n",
    "P_NoHikelist = []\n",
    "for i in range(len(expectation_df['FFER.Start'])):\n",
    "    value = (expectation_df['FFER.End'][i] - expectation_df['FFER.Start'][i])/.25\n",
    "    P_Hikelist.append(value)\n",
    "expectation_df['P_Hike'] = pd.Series(P_Hikelist)"
   ]
  },
  {
   "cell_type": "code",
   "execution_count": null,
   "metadata": {},
   "outputs": [],
   "source": [
    "from sklearn import preprocessing"
   ]
  },
  {
   "cell_type": "code",
   "execution_count": null,
   "metadata": {},
   "outputs": [],
   "source": [
    "# expectation_df['P_Hike_Normalized_Index'] = expectation_df['P_Hike'].apply(lambda x: (special.expit(x)-.5)*2)\n",
    "# expectation_df['P_Hike_Normalized_Index'] = expectation_df['P_Hike'].apply(lambda x : np.arctan(x / 6))\n",
    "\n",
    "expectation_df['P_Hike_Normalized_Index'] = (expectation_df['P_Hike'] - np.mean(expectation_df['P_Hike'])) / np.std(expectation_df['P_Hike'])\n",
    "# expectation_df['P_Hike_Normalized_Index'] = (expectation_df['P_Hike'] - np.min(expectation_df['P_Hike'])) / (np.max(expectation_df['P_Hike']) - np.min(expectation_df['P_Hike']))"
   ]
  },
  {
   "cell_type": "code",
   "execution_count": null,
   "metadata": {},
   "outputs": [],
   "source": [
    "# expectation_df['Rate_Change_Normalized'] = expectation_df['Rate Changes'].apply(lambda x : special.expit(x*25)*2-1)\n",
    "# expectation_df['Rate_Change_Normalized'] = expectation_df['Rate Changes'].apply(lambda x : np.arctan(x * 5))\n",
    "\n",
    "expectation_df['Rate_Change_Normalized'] = (expectation_df['Rate Changes'] - np.mean(expectation_df['Rate Changes'])) / np.std(expectation_df['Rate Changes'])\n",
    "# expectation_df['Rate_Change_Normalized'] = (expectation_df['Rate Changes'] - np.min(expectation_df['Rate Changes'])) / (np.max(expectation_df['Rate Changes']) - np.min(expectation_df['Rate Changes']))"
   ]
  },
  {
   "cell_type": "code",
   "execution_count": null,
   "metadata": {
    "scrolled": true
   },
   "outputs": [],
   "source": [
    "expectation_df['Shock_Index'] = abs(expectation_df['P_Hike_Normalized_Index'] - expectation_df['Rate_Change_Normalized'])\n",
    "# expectation_df['Shock_Index'] = abs(expectation_df['Rate_Change_Normalized'] / expectation_df['P_Hike_Normalized_Index'])"
   ]
  },
  {
   "cell_type": "code",
   "execution_count": null,
   "metadata": {},
   "outputs": [],
   "source": [
    "expectation_df['difference'] = abs(expectation_df['difference'])"
   ]
  },
  {
   "cell_type": "code",
   "execution_count": null,
   "metadata": {},
   "outputs": [],
   "source": [
    "expectation_df.head(20)"
   ]
  },
  {
   "cell_type": "code",
   "execution_count": null,
   "metadata": {},
   "outputs": [],
   "source": [
    "x = expectation_df['Shock_Index']\n",
    "y = expectation_df['difference']"
   ]
  },
  {
   "cell_type": "code",
   "execution_count": null,
   "metadata": {},
   "outputs": [],
   "source": [
    "x_np = expectation_df['Shock_Index'].to_numpy()\n",
    "y_np = (expectation_df['difference']).to_numpy()"
   ]
  },
  {
   "cell_type": "code",
   "execution_count": null,
   "metadata": {},
   "outputs": [],
   "source": [
    "m, b = np.polyfit(x_np, y_np, 1)"
   ]
  },
  {
   "cell_type": "code",
   "execution_count": null,
   "metadata": {},
   "outputs": [],
   "source": [
    "sns.scatterplot(x='Shock_Index', y='difference', data=expectation_df)\n",
    "plt.xlabel('Deviance from expectations')\n",
    "plt.ylabel(\"Absolute Value of Difference\")\n",
    "plt.title('Effect of shocking FOMC decisions on Federal Funds Future')\n",
    "plt.plot(x, m*x + b, 'r-', label = 'y = {0:.{1}f}'.format(m, 6) + 'x + {0:.{1}f}'.format(b, 6) + '\\nr^2 = {0:.{1}f}'.format(0.34263252454710924, 3))\n",
    "plt.legend()\n",
    "\n",
    "plt.savefig('../figures/expectations_on_FFF.png', dpi=800)"
   ]
  },
  {
   "cell_type": "code",
   "execution_count": null,
   "metadata": {},
   "outputs": [],
   "source": [
    "slope, intercept, r_value, p_value, std_err = stats.linregress(x_np, y_np)\n",
    "print(slope)\n",
    "print(intercept)\n",
    "print(r_value ** 2)\n",
    "print(p_value)"
   ]
  },
  {
   "cell_type": "code",
   "execution_count": null,
   "metadata": {},
   "outputs": [],
   "source": []
  }
 ],
 "metadata": {
  "kernelspec": {
   "display_name": "Python 3",
   "language": "python",
   "name": "python3"
  },
  "language_info": {
   "codemirror_mode": {
    "name": "ipython",
    "version": 3
   },
   "file_extension": ".py",
   "mimetype": "text/x-python",
   "name": "python",
   "nbconvert_exporter": "python",
   "pygments_lexer": "ipython3",
   "version": "3.7.5"
  }
 },
 "nbformat": 4,
 "nbformat_minor": 2
}
